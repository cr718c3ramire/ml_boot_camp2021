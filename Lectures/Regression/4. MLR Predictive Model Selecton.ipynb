{
 "cells": [
  {
   "cell_type": "markdown",
   "metadata": {},
   "source": [
    "# MLR Predictive Model Selection\n",
    "\n",
    "So now we know how to build a wide array of linear regression models. For instance if our data set contained $n$ observations of $m$ features we could build $2^m$ models without even considering interactions, polynomials, or other nonlinear transformations of the data. That's a lot of models to choose from, so in this notebook we'll introduce how you might go about selecting the best multiple linear regression model.\n",
    "\n",
    "\n",
    "## What We'll Accomplish in This Notebook\n",
    "\n",
    "In this notebook we'll:\n",
    "- Have a discussion of generalization error in predictive models\n",
    "- Introduce the concept of cross-validation\n",
    "- Use best subset selection for the Advertising data set\n",
    "- Practice building the best predictive model, using the tools we've learned so far\n",
    "\n",
    "Let's go!"
   ]
  },
  {
   "cell_type": "code",
   "execution_count": null,
   "metadata": {},
   "outputs": [],
   "source": [
    "# import the packages we'll use\n",
    "## For data handling\n",
    "import pandas as pd\n",
    "import numpy as np\n",
    "\n",
    "# We'll use this later\n",
    "from numpy import meshgrid\n",
    "\n",
    "## For plotting\n",
    "import matplotlib.pyplot as plt\n",
    "import seaborn as sns\n",
    "\n",
    "\n",
    "## This sets the plot style\n",
    "## to have a grid on a white background\n",
    "sns.set_style(\"whitegrid\")"
   ]
  },
  {
   "cell_type": "markdown",
   "metadata": {},
   "source": [
    "## Generalization Error\n",
    "\n",
    "As we've discussed before we can't just choose the model that performs the best on our training data because we could just arbitrarily make a model that fits each training point to its target value.\n",
    "\n",
    "We may also be tempted to see which model performs best on the test set we made, but this has a similar problem. We'll just be producing models that perform really well on the test set.\n",
    "\n",
    "We want to get a sense of how well our model will perform on any new random data pull, this is known as the <i>generalization error</i>.\n",
    "\n",
    "What can we do to get a sense for the generalization error of our model?\n",
    "\n",
    "### Cross-Validation\n",
    "\n",
    "Enter $k$-fold cross-validation.\n",
    "\n",
    "The idea behind this technique is pretty clever. We'll introduce the technique in a way that's generalizes beyond linear regression, which will come in handy down the line.\n",
    "\n",
    "When building a predictive model, the model estimate (what we've been calling $\\hat{f}$) is found from minimizing a <i>loss function</i>. For linear regression this loss function was the MSE of the training data. Let's consider the case where we will randomly draw a new set of data (think test set) and see how well our estimate performs. Because the data was randomly drawn, the algorithm we use is a random process. So the value of the loss function (the generalization error) on this new data is an example of a random variable, let's call this random variable $G$.\n",
    "\n",
    "It would be nice to know something about the distribution of $G$, but this is tricky with a finite amount of data. However, we can leverage a popular theorem from probability theory called the law of large numbers (see the probability theory and statistics cheat sheet).\n",
    "\n",
    "If we were able to generate a bunch of random draws of $G$, say $k$ random draws, then the law of large numbers says that:\n",
    "$$\n",
    "\\frac{1}{k}\\sum_{i=1}^k G_i \\approx E(G),\n",
    "$$\n",
    "assuming our random draws were independent.\n",
    "\n",
    "So in $k$-fold cross-validation we take our training set, and randomly split it into $k$ equally sized chunks. For each chunk we train the algortihm on the $k-1$ other chunks and then calculate the testing loss using the chunk we left out. Then we take the arithmetic mean of all $k$ testing errors. This is an approximation of the expected value of the true generalization error of the algorithm.\n",
    "\n",
    "Here's a picture to help illustrate the idea for $5$-fold cross-validation:\n",
    "<img src=\"CV_pic.png\" style=\"width:80%\"></img>\n",
    "\n",
    "Let's see how this works in `sklearn` to help us choose the best model for the `Advertising` data."
   ]
  },
  {
   "cell_type": "code",
   "execution_count": null,
   "metadata": {},
   "outputs": [],
   "source": [
    "ads = pd.read_csv(\"Advertising.csv\")\n",
    "ads_copy = ads.copy()\n",
    "\n",
    "ads_train = ads_copy.sample(frac=.75, random_state=614)\n",
    "ads_test = ads_copy.drop(ads_train.index)\n",
    "\n",
    "## remember in notebook 3 we found these\n",
    "## to be useful\n",
    "ads_train['sqrt_TV'] = np.sqrt(ads_train['TV'])\n",
    "ads_train['sqrtTV_radio'] = ads_train['sqrt_TV']*ads_train['radio']"
   ]
  },
  {
   "cell_type": "code",
   "execution_count": null,
   "metadata": {},
   "outputs": [],
   "source": [
    "## import the KFold object from sklearn\n",
    "from sklearn.model_selection import KFold\n",
    "\n",
    "## We'll need this when we fit models\n",
    "from sklearn.base import clone"
   ]
  },
  {
   "cell_type": "code",
   "execution_count": null,
   "metadata": {},
   "outputs": [],
   "source": [
    "## Now we make a kfold object\n",
    "## we'll use 5 splits\n",
    "## and shuffle the data before making the splits\n",
    "kfold = KFold(n_splits = 5, shuffle = True, random_state = 440)"
   ]
  },
  {
   "cell_type": "code",
   "execution_count": null,
   "metadata": {},
   "outputs": [],
   "source": [
    "## To make this simpler I make my data\n",
    "## into an array\n",
    "X = np.array(ads_train[['TV','radio']])\n",
    "y = np.array(ads_train['sales'])\n",
    "\n",
    "# You can loop through all the splits like so\n",
    "for train_index, test_index in kfold.split(X,y):\n",
    "    print(\"TRAIN:\", train_index, \"TEST:\", test_index)\n",
    "    X_train, X_test = X[train_index], X[test_index]\n",
    "    y_train, y_test = y[train_index], y[test_index]"
   ]
  },
  {
   "cell_type": "code",
   "execution_count": null,
   "metadata": {},
   "outputs": [],
   "source": [
    "## Now let's put it all together.\n",
    "## It will be easier for us to make a couple functions\n",
    "## to loop through all 8 possible models\n",
    "\n",
    "## This gets our data for us\n",
    "def get_X_y(df,features,target):\n",
    "    # Returns X then y\n",
    "    return np.array(df[features]), np.array(df[target])\n",
    "\n",
    "## this calculates the mse\n",
    "def get_mse(model, X, y):\n",
    "    # get the prediction\n",
    "    pred = model.predict(X)\n",
    "    \n",
    "    # Returns the mse\n",
    "    return np.sum(np.power(pred-y,2))/len(y)"
   ]
  },
  {
   "cell_type": "code",
   "execution_count": null,
   "metadata": {},
   "outputs": [],
   "source": [
    "# This function was modified from stackexchange user hughdbrown \n",
    "# at this link, \n",
    "# https://stackoverflow.com/questions/1482308/how-to-get-all-subsets-of-a-set-powerset\n",
    "\n",
    "# This returns the power set of a set minus the empty set\n",
    "def powerset_no_empty(s):\n",
    "    power_set = []\n",
    "    x = len(s)\n",
    "    for i in range(1 << x):\n",
    "        power_set.append([s[j] for j in range(x) if (i & (1 << j))])\n",
    "            \n",
    "    return power_set[1:]\n",
    "\n",
    "powerset_no_empty(['TV','radio','newspaper','sqrt_TV','sqrtTV_radio'])"
   ]
  },
  {
   "cell_type": "code",
   "execution_count": null,
   "metadata": {},
   "outputs": [],
   "source": [
    "possible_features = powerset_no_empty(['TV','radio','newspaper','sqrt_TV','sqrtTV_radio'])"
   ]
  },
  {
   "cell_type": "code",
   "execution_count": null,
   "metadata": {},
   "outputs": [],
   "source": [
    "## Now make an array that will hold the mses\n",
    "## for all the models\n",
    "## the columns represent each possible model\n",
    "MSEs = np.empty((5,len(possible_features)))"
   ]
  },
  {
   "cell_type": "code",
   "execution_count": null,
   "metadata": {},
   "outputs": [],
   "source": [
    "from sklearn.linear_model import LinearRegression"
   ]
  },
  {
   "cell_type": "code",
   "execution_count": null,
   "metadata": {},
   "outputs": [],
   "source": [
    "## Make a regression model\n",
    "reg = LinearRegression(copy_X = True)"
   ]
  },
  {
   "cell_type": "code",
   "execution_count": null,
   "metadata": {},
   "outputs": [],
   "source": [
    "## keep track of what split we're on\n",
    "i = 0\n",
    "\n",
    "## This is for the initial input into the kfold object\n",
    "X, y = get_X_y(ads_train, possible_features[0], 'sales')\n",
    "\n",
    "## Perform CV\n",
    "for train_index, test_index in kfold.split(X):\n",
    "    ## For each possible model\n",
    "    for j in range(len(possible_features)):\n",
    "        ## get X and y\n",
    "        X, y = get_X_y(ads_train, possible_features[j], 'sales')\n",
    "\n",
    "\n",
    "        # Get the cv train test split\n",
    "        X_train, X_test = X[train_index], X[test_index]\n",
    "        y_train, y_test = y[train_index], y[test_index]\n",
    "        \n",
    "        # Cloning the regression makes a fresh regression \n",
    "        # model for each run\n",
    "        clone_reg = clone(reg)\n",
    "        \n",
    "        # fit the model\n",
    "        clone_reg.fit(X_train,y_train)\n",
    "        \n",
    "        MSEs[i,j] = get_mse(clone_reg, X_test, y_test)\n",
    "    \n",
    "    ## We'll now move to the next split\n",
    "    i = i + 1"
   ]
  },
  {
   "cell_type": "code",
   "execution_count": null,
   "metadata": {},
   "outputs": [],
   "source": [
    "# Here are the MSEs\n",
    "MSEs"
   ]
  },
  {
   "cell_type": "code",
   "execution_count": null,
   "metadata": {},
   "outputs": [],
   "source": [
    "## We can get the mean MSE for each model \n",
    "## across the CV splits like so\n",
    "np.mean(MSEs, axis=0)"
   ]
  },
  {
   "cell_type": "code",
   "execution_count": null,
   "metadata": {},
   "outputs": [],
   "source": [
    "## We can get the mean MSEs using np.mean\n",
    "## axis = 0 tells np.mean to take the column mean\n",
    "## we can get where the min occurs with argmin\n",
    "np.argmin(np.mean(MSEs, axis = 0))"
   ]
  },
  {
   "cell_type": "code",
   "execution_count": null,
   "metadata": {},
   "outputs": [],
   "source": [
    "print(\"The model with the lowest mean CV MSE\",\n",
    "     \"was the one with\", possible_features[np.argmin(np.mean(MSEs, axis = 0))],\n",
    "     \"as the features. This model had a mean CV MSE of\",\n",
    "     np.round(np.min(np.mean(MSEs, axis=0)),5))"
   ]
  },
  {
   "cell_type": "code",
   "execution_count": null,
   "metadata": {},
   "outputs": [],
   "source": [
    "## Another popular measure is root mse\n",
    "## this is because it has the same dimension as \n",
    "## the target variable\n",
    "\n",
    "## It can be interpreted as how far off we were from the\n",
    "## true value on average\n",
    "np.round(np.min(np.sqrt(np.mean(MSEs, axis = 0))),5)"
   ]
  },
  {
   "cell_type": "markdown",
   "metadata": {},
   "source": [
    "Here we brute forced our way through all the models because we had a small number of predictors and a decent sample size. \n",
    "\n",
    "This really doesn't work when your data has a large number of predictors (there are too many models to check, and you need a large quantity of samples to fit models with a lot of predictors this is known as the curse of dimensionality), or if you have a small sample size (makes it difficult to split your data even further). We'll learn other techniques for model selection in those cases later on. Also in many cases it doesn't make sense to even include a predictor in the model, for example because it has no association with your target.\n",
    "\n",
    "\n",
    "\n",
    "There are two other algorithms we touch on in the HW called backwards and forwards selection that are greedy algorithms. The benefit of these approaches is that they run more quickly than brute force, the problem is that they might not give you the \"best model\".\n",
    "\n",
    "\n",
    "For now we'll stick to examining correlations, scatter plots to provide plausible features, and then use cross validation to pick the best subset of those plausible features."
   ]
  },
  {
   "cell_type": "markdown",
   "metadata": {},
   "source": [
    "### You Code\n",
    "\n",
    "Go ahead and try to build the best model you can to predict `carseats` `Sales`. Everyone's model may be different so do your best :)"
   ]
  },
  {
   "cell_type": "code",
   "execution_count": null,
   "metadata": {},
   "outputs": [],
   "source": [
    "carseats = pd.read_csv(\"carseats.csv\")"
   ]
  },
  {
   "cell_type": "code",
   "execution_count": null,
   "metadata": {},
   "outputs": [],
   "source": [
    "## Code here\n",
    "\n",
    "\n",
    "\n",
    "\n",
    "\n",
    "\n",
    "\n",
    "\n"
   ]
  },
  {
   "cell_type": "code",
   "execution_count": null,
   "metadata": {},
   "outputs": [],
   "source": [
    "## Code here\n",
    "\n",
    "\n",
    "\n",
    "\n",
    "\n",
    "\n",
    "\n",
    "\n"
   ]
  },
  {
   "cell_type": "code",
   "execution_count": null,
   "metadata": {},
   "outputs": [],
   "source": [
    "## Code here\n",
    "\n",
    "\n",
    "\n",
    "\n",
    "\n",
    "\n",
    "\n",
    "\n"
   ]
  },
  {
   "cell_type": "markdown",
   "metadata": {},
   "source": [
    "This notebook was written for the Erd&#337;s Institute C&#337;de Data Science Boot Camp by Matthew Osborne, Ph. D., 2021.\n",
    "\n",
    "Redistribution of the material contained in this repository is conditional on acknowledgement of Matthew Tyler Osborne, Ph.D.'s original authorship and sponsorship of the Erdős Institute as subject to the license (see License.md)"
   ]
  },
  {
   "cell_type": "code",
   "execution_count": null,
   "metadata": {},
   "outputs": [],
   "source": []
  }
 ],
 "metadata": {
  "kernelspec": {
   "display_name": "Python 3",
   "language": "python",
   "name": "python3"
  },
  "language_info": {
   "codemirror_mode": {
    "name": "ipython",
    "version": 3
   },
   "file_extension": ".py",
   "mimetype": "text/x-python",
   "name": "python",
   "nbconvert_exporter": "python",
   "pygments_lexer": "ipython3",
   "version": "3.7.4"
  }
 },
 "nbformat": 4,
 "nbformat_minor": 2
}
