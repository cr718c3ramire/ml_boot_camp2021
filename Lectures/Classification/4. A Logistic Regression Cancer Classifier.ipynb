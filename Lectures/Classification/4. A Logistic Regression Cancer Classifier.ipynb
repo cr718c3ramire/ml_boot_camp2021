{
 "cells": [
  {
   "cell_type": "markdown",
   "metadata": {},
   "source": [
    "# Classifying Cancer Cases\n",
    "\n",
    "We'll now move on to using logistic regression on real data. This notebook will be a breakout session exercise. Remember to complete as much as possible in the time available. It is okay if you don't finish it all right now :)\n",
    "\n",
    "## What You'll Accomplish\n",
    "- You'll build a logistic regression model on a cancer data set.\n",
    "\n",
    "## The Data\n",
    "\n",
    "The data we're considering comes from a 1995 study on breast tumor cells. Each row of the data set presents the features of a digitized image of a fine needle aspirate (FNA) of a breast mass. They describe characteristics of the cell nuclei present in the image. \n",
    "\n",
    "The data has 30 features and is categorized as benign or malignant. The data was originally presented to demonstrate an algorithm that linearly separates the two classes of tumor. \n",
    "\n",
    "In this notebook you'll do your best to build a logistic regression classifier using these data. (Note the algorithm in the paper was not logistic regression, so we'll likely not do as well as the original paper).\n"
   ]
  },
  {
   "cell_type": "code",
   "execution_count": null,
   "metadata": {},
   "outputs": [],
   "source": [
    "## For data handling\n",
    "import pandas as pd\n",
    "import numpy as np\n",
    "\n",
    "## For plotting\n",
    "import matplotlib.pyplot as plt\n",
    "import seaborn as sns\n",
    "\n",
    "## This sets the plot style\n",
    "## to have a grid on a white background\n",
    "sns.set_style(\"whitegrid\")"
   ]
  },
  {
   "cell_type": "code",
   "execution_count": null,
   "metadata": {},
   "outputs": [],
   "source": [
    "# import the data\n",
    "from sklearn.datasets import load_breast_cancer\n",
    "\n",
    "cancer = load_breast_cancer()\n",
    "\n",
    "X,y = load_breast_cancer(return_X_y = True)"
   ]
  },
  {
   "cell_type": "code",
   "execution_count": null,
   "metadata": {},
   "outputs": [],
   "source": [
    "from sklearn.model_selection import train_test_split\n",
    "\n",
    "# test train split\n",
    "X_train,X_test,y_train,y_test = train_test_split(X, y,\n",
    "                                                 test_size = .25,\n",
    "                                                 random_state = 614,\n",
    "                                                 shuffle = True,\n",
    "                                                 stratify = y)"
   ]
  },
  {
   "cell_type": "code",
   "execution_count": null,
   "metadata": {
    "scrolled": false
   },
   "outputs": [],
   "source": [
    "# Let's view the training data\n",
    "# Note this may take a bit.\n",
    "fig, axes = plt.subplots(15, 2, figsize = (12,30))\n",
    "\n",
    "ax = axes.ravel()\n",
    "\n",
    "for i in range(30):\n",
    "    _, bins = np.histogram(X_train[:, i], bins = 50)\n",
    "    ax[i].hist(X_train[y_train == 1, i], bins = bins, color = 'red', alpha = .5)\n",
    "    ax[i].hist(X_train[y_train == 0, i], bins = bins, color = 'blue', alpha = .5)\n",
    "    ax[i].set_title(\"feature \" + str(i) + \": \" + cancer.feature_names[i])\n",
    "    ax[i].set_yticks(())\n",
    "\n",
    "ax[0].legend(['malignant', 'benign'], loc = 'best')\n",
    "    \n",
    "fig.tight_layout()"
   ]
  },
  {
   "cell_type": "markdown",
   "metadata": {},
   "source": [
    "### Practice!\n",
    "\n",
    "#### Problem 1\n",
    "\n",
    "Let's start with a simple one predictor model. Looking at the 30 input features above go ahead and find one to use as the input for your model and build a logistic regression classifier below. \n",
    "\n",
    "\n",
    "Do your best to find the probability cutoff that seems to have the best generalization accuracy. What technique should you use to figure this out? "
   ]
  },
  {
   "cell_type": "code",
   "execution_count": null,
   "metadata": {},
   "outputs": [],
   "source": [
    "## Find the column of X_train that contains\n",
    "## the variable you're interested in here\n"
   ]
  },
  {
   "cell_type": "code",
   "execution_count": null,
   "metadata": {},
   "outputs": [],
   "source": [
    "## Import logistic regression here\n"
   ]
  },
  {
   "cell_type": "code",
   "execution_count": null,
   "metadata": {},
   "outputs": [],
   "source": [
    "## Make your model object here\n",
    "\n",
    "\n",
    "\n",
    "## Fit your model object here\n"
   ]
  },
  {
   "cell_type": "code",
   "execution_count": null,
   "metadata": {},
   "outputs": [],
   "source": [
    "## Import the accuracy_score metric here,\n",
    "## docs, https://scikit-learn.org/stable/modules/generated/sklearn.metrics.accuracy_score.html\n"
   ]
  },
  {
   "cell_type": "code",
   "execution_count": null,
   "metadata": {},
   "outputs": [],
   "source": [
    "## import cross-validation and clone here, remember \n",
    "## we'll need to stratify our data in each cv split\n"
   ]
  },
  {
   "cell_type": "code",
   "execution_count": null,
   "metadata": {},
   "outputs": [],
   "source": [
    "## Perform kfold cross validation here\n",
    "\n",
    "## make a kfold object\n",
    "\n",
    "\n",
    "## Make an array to store your cv accuracies in\n",
    "\n",
    "\n",
    "## Perform the cross-validation loop for various probability\n",
    "## cutoffs here\n",
    "\n"
   ]
  },
  {
   "cell_type": "code",
   "execution_count": null,
   "metadata": {},
   "outputs": [],
   "source": [
    "## Plot the average cross validation accuracy here\n",
    "plt.figure(figsize=(10,8))\n",
    "\n",
    "\n",
    "\n",
    "\n",
    "\n",
    "\n",
    "plt.show()"
   ]
  },
  {
   "cell_type": "code",
   "execution_count": null,
   "metadata": {},
   "outputs": [],
   "source": [
    "## Which cutoff provided the highest mean CV accuracy?\n",
    "\n",
    "\n"
   ]
  },
  {
   "cell_type": "markdown",
   "metadata": {},
   "source": [
    "#### Problem 2\n",
    "\n",
    "Is accuracy the best performance measure here? Think about the end goal of the algorithm, diagnosing malignant tumors, which measure do you think is most appropriate?\n",
    "\n",
    "Once you decide on a new performance measure, look back at your model building process and make whatever fixes you think necessary to build the model that will generalize best in terms of that measure. Still only use one predictor."
   ]
  },
  {
   "cell_type": "code",
   "execution_count": null,
   "metadata": {},
   "outputs": [],
   "source": [
    "## Import additional sklearn metrics here\n",
    "\n",
    "from sklearn.metrics import precision_score\n",
    "from sklearn.metrics import recall_score\n",
    "from sklearn.metrics import f1_score"
   ]
  },
  {
   "cell_type": "code",
   "execution_count": null,
   "metadata": {},
   "outputs": [],
   "source": [
    "## Rerun the cross validation using these whatever metric\n",
    "## you settle on\n",
    "\n"
   ]
  },
  {
   "cell_type": "code",
   "execution_count": null,
   "metadata": {},
   "outputs": [],
   "source": [
    "## Sample Solution\n",
    "\n",
    "## plot the mean cv value of that metric as \n",
    "## a function of the probability cutoff here\n",
    "plt.figure(figsize=(10,8))\n",
    "\n",
    "\n",
    "\n",
    "\n",
    "plt.show()"
   ]
  },
  {
   "cell_type": "markdown",
   "metadata": {},
   "source": [
    "#### Problem 3\n",
    "\n",
    "We're only using one predictor as input in this model. At the beginning we said the published model used all 30 features of the data. Surely our model would be better if we incorporated more predictors into the model.\n",
    "\n",
    "What is wrong with this line of thinking?"
   ]
  },
  {
   "cell_type": "markdown",
   "metadata": {},
   "source": [
    "#### Problem 4\n",
    "\n",
    "Using whatever your final model and performance measure will be use the test set to find the test measure for your algorithm."
   ]
  },
  {
   "cell_type": "code",
   "execution_count": null,
   "metadata": {},
   "outputs": [],
   "source": [
    "## Make your model and fit it here\n",
    "\n"
   ]
  },
  {
   "cell_type": "code",
   "execution_count": null,
   "metadata": {},
   "outputs": [],
   "source": [
    "## Find the test error here\n"
   ]
  },
  {
   "cell_type": "markdown",
   "metadata": {},
   "source": [
    "#### Problem 5\n",
    "\n",
    "Do you think that logistic regression, using only the data in hand without any additional machine learning techniques, is the best model for this data set? Why or why not?"
   ]
  },
  {
   "cell_type": "markdown",
   "metadata": {},
   "source": [
    "This notebook was written for the Erd&#337;s Institute C&#337;de Data Science Boot Camp by Matthew Osborne, Ph. D., 2021.\n",
    "\n",
    "Redistribution of the material contained in this repository is conditional on acknowledgement of Matthew Tyler Osborne, Ph.D.'s original authorship and sponsorship of the Erdős Institute as subject to the license (see License.md)"
   ]
  },
  {
   "cell_type": "code",
   "execution_count": null,
   "metadata": {},
   "outputs": [],
   "source": []
  }
 ],
 "metadata": {
  "kernelspec": {
   "display_name": "Python 3",
   "language": "python",
   "name": "python3"
  },
  "language_info": {
   "codemirror_mode": {
    "name": "ipython",
    "version": 3
   },
   "file_extension": ".py",
   "mimetype": "text/x-python",
   "name": "python",
   "nbconvert_exporter": "python",
   "pygments_lexer": "ipython3",
   "version": "3.7.4"
  }
 },
 "nbformat": 4,
 "nbformat_minor": 2
}
