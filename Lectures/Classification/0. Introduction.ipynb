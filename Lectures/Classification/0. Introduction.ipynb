{
 "cells": [
  {
   "cell_type": "markdown",
   "metadata": {},
   "source": [
    "# Introduction\n",
    "\n",
    "In this folder we'll review a variety of classification algorithms. Like regression problems, classification is a <i>supervised learning</i> problem. In the classification setting our data will still consist of a number of input variables, $X$, but now our target variable, $y$, will represent a class. For example, whether or not an individual has heart disease would use a binary target variable, i.e. $y=0$ (no heart disease) or $y=1$ (yes heart disease). We may also be interested in multiclass problems (problems with more than $2$ possible target classes), a common example we'll look at is what kind of iris a certain flower is which has $3$ possible classes.\n",
    "\n",
    "A shift from our regression mindset will be the introduction of a number of new performance metrics. In regression we were only interested in mean square error, however, in classification we are usually interested in being wrong in a certain way. Going back to our heart disease example, we're probably much more interested in when we misclassify someone as being healthy when they do in fact have heart disease.\n",
    "\n",
    "That's enough to motivate us to get started, let's go!"
   ]
  },
  {
   "cell_type": "markdown",
   "metadata": {},
   "source": [
    "This notebook was written for the Erd&#337;s Institute C&#337;de Data Science Boot Camp by Matthew Osborne, Ph. D., 2021.\n",
    "\n",
    "Redistribution of the material contained in this repository is conditional on acknowledgement of Matthew Tyler Osborne, Ph.D.'s original authorship and sponsorship of the Erdős Institute as subject to the license (see License.md)"
   ]
  },
  {
   "cell_type": "code",
   "execution_count": null,
   "metadata": {},
   "outputs": [],
   "source": []
  }
 ],
 "metadata": {
  "kernelspec": {
   "display_name": "Python 3",
   "language": "python",
   "name": "python3"
  },
  "language_info": {
   "codemirror_mode": {
    "name": "ipython",
    "version": 3
   },
   "file_extension": ".py",
   "mimetype": "text/x-python",
   "name": "python",
   "nbconvert_exporter": "python",
   "pygments_lexer": "ipython3",
   "version": "3.7.4"
  }
 },
 "nbformat": 4,
 "nbformat_minor": 2
}
